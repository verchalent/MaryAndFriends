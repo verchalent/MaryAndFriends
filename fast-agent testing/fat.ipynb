{
 "cells": [
  {
   "cell_type": "markdown",
   "id": "d0a40f5e",
   "metadata": {},
   "source": [
    "#### Some basic testing\n",
    "From https://github.com/evalstate/fast-agent\n",
    "```\n",
    "uv pip install fast-agent-mcp          # install fast-agent!\n",
    "fast-agent go                          # start an interactive session\n",
    "fast-agent go https://hf.co/mcp        # with a remote MCP\n",
    "fast-agent go --model=generic.qwen2.5  # use ollama qwen 2.5\n",
    "fast-agent setup                       # create an example agent and config files\n",
    "uv run agent.py                        # run your first agent\n",
    "uv run agent.py --model=o3-mini.low    # specify a model\n",
    "fast-agent quickstart workflow  # create \"building effective agents\" examples\n",
    "```"
   ]
  },
  {
   "cell_type": "code",
   "execution_count": null,
   "id": "28e4a6cb",
   "metadata": {
    "vscode": {
     "languageId": "plaintext"
    }
   },
   "outputs": [],
   "source": [
    "fast-agent setup"
   ]
  }
 ],
 "metadata": {
  "language_info": {
   "name": "python"
  }
 },
 "nbformat": 4,
 "nbformat_minor": 5
}
